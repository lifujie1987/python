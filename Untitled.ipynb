{
 "cells": [
  {
   "cell_type": "code",
   "execution_count": 77,
   "metadata": {},
   "outputs": [
    {
     "name": "stdout",
     "output_type": "stream",
     "text": [
      "{'words': 'Dosing Lines'}\n",
      "{'words': 'Getting the correct flow of all dosing lines is key'}\n",
      "{'words': 'convey and mix liquids'}\n",
      "{'words': 'manage molar ratio'}\n",
      "{'words': 'monitor temperature'}\n",
      "{'words': 'monitor pressure'}\n",
      "{'words': 'G3/G4 Dosing Pump Selection:'}\n",
      "{'words': 'Pumps Specifications: Several aspects to consider'}\n",
      "{'words': 'Pressure range'}\n",
      "{'words': 'Flow range'}\n",
      "{'words': 'Viscosity range'}\n",
      "{'words': 'Material of constructions(Chemical compatibility'}\n",
      "{'words': 'Fluid type(liquid, gas, slurry, liquefied gas'}\n",
      "{'words': 'Flow controlling'}\n",
      "{'words': 'Minimal pulsations'}\n",
      "{'words': 'Data logging'}\n",
      "{'words': 'Safety devices(PRV, check valves'}\n",
      "{'words': 'Others(e.g filters, dampers.'}\n",
      "{'words': 'G3/G4 Dosing Pump Types:'}\n",
      "{'words': 'Gear pumps'}\n",
      "{'words': 'multi-head piston pumps'}\n",
      "{'words': 'Centrifugal pumps'}\n",
      "{'words': 'Others'}\n",
      "{'words': 'G3/G4 Dosing System Example'}\n",
      "{'words': '3-head diaphragm pump dosing system'}\n",
      "{'words': 'Pressure relief valve'}\n",
      "{'words': 'Pressure relief valve'}\n",
      "{'words': '3-way valve flow meter Check valve'}\n"
     ]
    }
   ],
   "source": [
    "from aip import AipOcr\n",
    "APP_ID = '11121437'\n",
    "API_KEY = '1Zl0PD44A03aCn1uAzytNGNX'\n",
    "SECRET_KEY = 'bcA5ARjfxqpCkAm57NrTyXZ2iB6pqPkA'\n",
    "client = AipOcr(APP_ID, API_KEY, SECRET_KEY)\n",
    "aipOcr = AipOcr(APP_ID, API_KEY, SECRET_KEY)  \n",
    "filePath = \"2.png\"  \n",
    "def get_file_content(filePath):  \n",
    "    with open(filePath, 'rb') as fp:  \n",
    "        return fp.read()  \n",
    "\n",
    "options = {  \n",
    "  'detect_direction': 'false',  \n",
    "  'language_type': 'CHN_ENG',  \n",
    "    \n",
    "}  \n",
    "  \n",
    "# 调用通用文字识别接口  \n",
    "result = aipOcr.basicGeneral(get_file_content(filePath), options)  \n",
    "# res=(result['words_result'])\n",
    "\n",
    "for i in (result['words_result']):\n",
    "    print(i)\n"
   ]
  },
  {
   "cell_type": "code",
   "execution_count": 78,
   "metadata": {},
   "outputs": [
    {
     "name": "stdout",
     "output_type": "stream",
     "text": [
      "{'log_id': 6754241598153483367, 'words_result_num': 28, 'words_result': [{'words': 'Dosing Lines'}, {'words': 'Getting the correct flow of all dosing lines is key'}, {'words': 'convey and mix liquids'}, {'words': 'manage molar ratio'}, {'words': 'monitor temperature'}, {'words': 'monitor pressure'}, {'words': 'G3/G4 Dosing Pump Selection:'}, {'words': 'Pumps Specifications: Several aspects to consider'}, {'words': 'Pressure range'}, {'words': 'Flow range'}, {'words': 'Viscosity range'}, {'words': 'Material of constructions(Chemical compatibility'}, {'words': 'Fluid type(liquid, gas, slurry, liquefied gas'}, {'words': 'Flow controlling'}, {'words': 'Minimal pulsations'}, {'words': 'Data logging'}, {'words': 'Safety devices(PRV, check valves'}, {'words': 'Others(e.g filters, dampers.'}, {'words': 'G3/G4 Dosing Pump Types:'}, {'words': 'Gear pumps'}, {'words': 'multi-head piston pumps'}, {'words': 'Centrifugal pumps'}, {'words': 'Others'}, {'words': 'G3/G4 Dosing System Example'}, {'words': '3-head diaphragm pump dosing system'}, {'words': 'Pressure relief valve'}, {'words': 'Pressure relief valve'}, {'words': '3-way valve flow meter Check valve'}]}\n"
     ]
    }
   ],
   "source": [
    "print(result)"
   ]
  },
  {
   "cell_type": "code",
   "execution_count": null,
   "metadata": {},
   "outputs": [],
   "source": []
  },
  {
   "cell_type": "code",
   "execution_count": null,
   "metadata": {},
   "outputs": [],
   "source": []
  }
 ],
 "metadata": {
  "kernelspec": {
   "display_name": "Python 3",
   "language": "python",
   "name": "python3"
  },
  "language_info": {
   "codemirror_mode": {
    "name": "ipython",
    "version": 3
   },
   "file_extension": ".py",
   "mimetype": "text/x-python",
   "name": "python",
   "nbconvert_exporter": "python",
   "pygments_lexer": "ipython3",
   "version": "3.6.2"
  }
 },
 "nbformat": 4,
 "nbformat_minor": 2
}
